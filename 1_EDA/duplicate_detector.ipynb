{
 "cells": [
  {
   "cell_type": "code",
   "execution_count": 3,
   "id": "3c202bfb",
   "metadata": {},
   "outputs": [],
   "source": [
    "import json\n",
    "import os\n",
    "import hashlib\n",
    "from tqdm import tqdm"
   ]
  },
  {
   "cell_type": "markdown",
   "metadata": {},
   "source": [
    "# Create hashes of the trash images and save it to json"
   ]
  },
  {
   "cell_type": "code",
   "execution_count": 2,
   "metadata": {},
   "outputs": [],
   "source": [
    "def file_hash(filepath):\n",
    "    block_size = 65536\n",
    "    file_hash = hashlib.sha256()\n",
    "    with open(filepath, 'rb') as f:\n",
    "        for block in iter(lambda: f.read(block_size), b''):\n",
    "            file_hash.update(block)\n",
    "    return file_hash.hexdigest()"
   ]
  },
  {
   "cell_type": "code",
   "execution_count": 1,
   "metadata": {},
   "outputs": [],
   "source": [
    "def get_unique_hashes(folder_path):\n",
    "    unique_hashes = set()\n",
    "\n",
    "    files_list = os.listdir(folder_path)\n",
    "\n",
    "    for filename in tqdm(files_list, desc=\"Processing images\"):\n",
    "        if os.path.isfile(os.path.join(folder_path, filename)):\n",
    "            current_image_path = os.path.join(folder_path, filename)\n",
    "\n",
    "            current_image_hash = file_hash(current_image_path)\n",
    "            #i add the hash to the set to keep it unique\n",
    "            unique_hashes.add(current_image_hash)\n",
    "\n",
    "    return list(unique_hashes)"
   ]
  },
  {
   "cell_type": "code",
   "execution_count": 16,
   "metadata": {},
   "outputs": [],
   "source": [
    "def save_hashes_to_json(unique_hashes, output_json_path):\n",
    "    with open(output_json_path, 'w') as json_file:\n",
    "        json.dump(unique_hashes, json_file)"
   ]
  },
  {
   "cell_type": "code",
   "execution_count": 17,
   "metadata": {},
   "outputs": [
    {
     "name": "stderr",
     "output_type": "stream",
     "text": [
      "Processing images: 100%|██████████| 311/311 [00:01<00:00, 229.82it/s]\n"
     ]
    }
   ],
   "source": [
    "folder_path = 'C:/Users/nello/Desktop/TESI_CODICE/EDA/images_to_remove'\n",
    "output_json_path = 'C:/Users/nello/Desktop/TESI_CODICE/EDA/unique_hashes.json'\n",
    "\n",
    "unique_hashes = get_unique_hashes(folder_path)\n",
    "save_hashes_to_json(unique_hashes, output_json_path)"
   ]
  },
  {
   "cell_type": "markdown",
   "metadata": {},
   "source": [
    "# Find out how many images inside the whole dataset matches the trash images inside images_to_remove folder"
   ]
  },
  {
   "cell_type": "code",
   "execution_count": 3,
   "id": "93e6e141",
   "metadata": {},
   "outputs": [],
   "source": [
    "def find_matching_hashes(folder_path, json_path):\n",
    "    #load unique hashes\n",
    "    with open(json_path, 'r') as json_file:\n",
    "        unique_hashes = set(json.load(json_file))\n",
    "\n",
    "    matching_images = []\n",
    "    files_list = os.listdir(folder_path)\n",
    "\n",
    "    for filename in tqdm(files_list, desc=\"Processing images\"):\n",
    "        if os.path.isfile(os.path.join(folder_path, filename)):\n",
    "            current_image_path = os.path.join(folder_path, filename)\n",
    "\n",
    "            #get hash of the current image\n",
    "            current_image_hash = file_hash(current_image_path)\n",
    "            #i check if the hash is in the set of unique hashes\n",
    "            if current_image_hash in unique_hashes:\n",
    "                matching_images.append(filename)\n",
    "\n",
    "    return matching_images"
   ]
  },
  {
   "cell_type": "code",
   "execution_count": 4,
   "metadata": {},
   "outputs": [
    {
     "name": "stderr",
     "output_type": "stream",
     "text": [
      "Processing images: 100%|██████████| 773563/773563 [20:35<00:00, 625.92it/s] "
     ]
    },
    {
     "name": "stdout",
     "output_type": "stream",
     "text": [
      "Number of images with matching hashes: 3392\n"
     ]
    },
    {
     "name": "stderr",
     "output_type": "stream",
     "text": [
      "\n"
     ]
    }
   ],
   "source": [
    "folder_path = 'C:/Users/nello/Desktop/TESI_CODICE/dataset/public_image_set'\n",
    "json_path = 'C:/Users/nello/Desktop/TESI_CODICE/EDA/unique_hashes.json'\n",
    "\n",
    "matching_images = find_matching_hashes(folder_path, json_path)\n",
    "\n",
    "#list of matching images\n",
    "output_json_path = 'C:/Users/nello/Desktop/all_images_names_to_remove.json'\n",
    "with open(output_json_path, 'w') as output_json_file:\n",
    "    json.dump(matching_images, output_json_file)\n",
    "\n",
    "print(f'Number of images with matching hashes: {len(matching_images)}')"
   ]
  },
  {
   "cell_type": "markdown",
   "metadata": {},
   "source": [
    "# Find out how many images are equal to a specific trash image"
   ]
  },
  {
   "cell_type": "code",
   "execution_count": 5,
   "metadata": {},
   "outputs": [
    {
     "name": "stderr",
     "output_type": "stream",
     "text": [
      "Processing images: 100%|██████████| 773563/773563 [19:22<00:00, 665.26it/s] "
     ]
    },
    {
     "name": "stdout",
     "output_type": "stream",
     "text": [
      "Number of images with the same hash as the given image: 2888\n"
     ]
    },
    {
     "name": "stderr",
     "output_type": "stream",
     "text": [
      "\n"
     ]
    }
   ],
   "source": [
    "def find_duplicate_images(given_image_path, folder_path):\n",
    "    given_image_hash = file_hash(given_image_path)\n",
    "    files_list = os.listdir(folder_path)\n",
    "\n",
    "    duplicate_count = 0\n",
    "\n",
    "    for filename in tqdm(files_list, desc=\"Processing images\"):\n",
    "        if os.path.isfile(os.path.join(folder_path, filename)):\n",
    "            current_image_path = os.path.join(folder_path, filename)\n",
    "\n",
    "            current_image_hash = file_hash(current_image_path)\n",
    "\n",
    "            if current_image_hash == given_image_hash:\n",
    "                duplicate_count += 1\n",
    "\n",
    "    return duplicate_count\n",
    "\n",
    "given_image_path = 'C:/Users/nello/Desktop/TESI_CODICE/dataset/dataset_small/1a5s5s.jpg'\n",
    "folder_path = 'C:/Users/nello/Desktop/TESI_CODICE/dataset/public_image_set' \n",
    "result = find_duplicate_images(given_image_path, folder_path)\n",
    "\n",
    "print(f'Number of images with the same hash as the given image: {result}')"
   ]
  }
 ],
 "metadata": {
  "kernelspec": {
   "display_name": "Python 3 (ipykernel)",
   "language": "python",
   "name": "python3"
  },
  "language_info": {
   "codemirror_mode": {
    "name": "ipython",
    "version": 3
   },
   "file_extension": ".py",
   "mimetype": "text/x-python",
   "name": "python",
   "nbconvert_exporter": "python",
   "pygments_lexer": "ipython3",
   "version": "3.11.6"
  }
 },
 "nbformat": 4,
 "nbformat_minor": 5
}
