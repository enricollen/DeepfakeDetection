{
 "cells": [
  {
   "cell_type": "code",
   "execution_count": 16,
   "metadata": {},
   "outputs": [
    {
     "name": "stdout",
     "output_type": "stream",
     "text": [
      "\n",
      "Total missing images: 0\n"
     ]
    }
   ],
   "source": [
    "import os\n",
    "import pandas as pd\n",
    "\n",
    "folder_path = \"generated_images/validation\"\n",
    "csv_file_path = \"/home/enriconello/DeepFakeDetection/Thesis/2_image_captioning/csv/validation_captioned_final.csv\"\n",
    "\n",
    "# Get a list of all files in the folder\n",
    "files = os.listdir(folder_path)\n",
    "\n",
    "# Extract image ids from file names in the folder\n",
    "folder_image_ids = {file.split(\"_\")[-1].split(\".\")[0] for file in files if file.startswith(\"SD_fake_\")}\n",
    "\n",
    "# Read the CSV file\n",
    "df = pd.read_csv(csv_file_path)\n",
    "\n",
    "# Get unique image ids from the CSV column\n",
    "csv_image_ids = set(df['id'].astype(str).unique()[:8000])\n",
    "\n",
    "# Find missing image ids\n",
    "missing_image_ids = csv_image_ids - folder_image_ids\n",
    "\n",
    "# Save missing ids to ids.txt\n",
    "with open(\"ids.txt\", \"w\") as file:\n",
    "    for image_id in missing_image_ids:\n",
    "        file.write(image_id + \"\\n\")\n",
    "\n",
    "print(\"\\nTotal missing images: {}\".format(len(missing_image_ids)))\n"
   ]
  },
  {
   "cell_type": "code",
   "execution_count": 19,
   "metadata": {},
   "outputs": [
    {
     "name": "stdout",
     "output_type": "stream",
     "text": [
      "Filtered DataFrame saved to generated_images/validation/validation_SD.csv\n"
     ]
    },
    {
     "name": "stderr",
     "output_type": "stream",
     "text": [
      "/tmp/ipykernel_3488189/1936797480.py:21: SettingWithCopyWarning: \n",
      "A value is trying to be set on a copy of a slice from a DataFrame.\n",
      "Try using .loc[row_indexer,col_indexer] = value instead\n",
      "\n",
      "See the caveats in the documentation: https://pandas.pydata.org/pandas-docs/stable/user_guide/indexing.html#returning-a-view-versus-a-copy\n",
      "  filtered_df['fake_id'] = 'SD_fake_' + filtered_df['id'].astype(str)\n"
     ]
    }
   ],
   "source": [
    "import os\n",
    "import pandas as pd\n",
    "\n",
    "folder_path = \"generated_images/validation\"\n",
    "csv_file_path = \"/home/enriconello/DeepFakeDetection/Thesis/2_image_captioning/csv/validation_captioned_final.csv\"\n",
    "output_csv_path = \"generated_images/validation/validation_SD.csv\"  # Change this to the desired output path\n",
    "\n",
    "# Get a list of all files in the folder\n",
    "files = os.listdir(folder_path)\n",
    "\n",
    "# Extract image ids from file names in the folder\n",
    "folder_image_ids = [file.split(\"_\")[-1].split(\".\")[0] for file in files if file.startswith(\"SD_fake_\")]\n",
    "\n",
    "# Read the CSV file\n",
    "df = pd.read_csv(csv_file_path)\n",
    "\n",
    "# Filter the DataFrame based on image IDs\n",
    "filtered_df = df[df['id'].astype(str).isin(folder_image_ids)]\n",
    "\n",
    "# Add a new column for fake IDs\n",
    "filtered_df['fake_id'] = 'SD_fake_' + filtered_df['id'].astype(str)\n",
    "\n",
    "# Save the filtered DataFrame to a new CSV file\n",
    "filtered_df.to_csv(output_csv_path, index=False)\n",
    "\n",
    "print(f\"Filtered DataFrame saved to {output_csv_path}\")"
   ]
  },
  {
   "cell_type": "code",
   "execution_count": 14,
   "metadata": {},
   "outputs": [
    {
     "name": "stdout",
     "output_type": "stream",
     "text": [
      "df length: 8000\n",
      "The IDs in the CSV are equal to the IDs in the folder.\n"
     ]
    }
   ],
   "source": [
    "import os\n",
    "import pandas as pd\n",
    "\n",
    "folder_path = \"generated_images/validation\"\n",
    "csv_file_path = \"generated_images/validation/validation_SD.csv\"\n",
    "\n",
    "# Get a list of all files in the folder\n",
    "files = os.listdir(folder_path)\n",
    "\n",
    "# Extract image ids from file names in the folder\n",
    "folder_image_ids = [file.split(\"_\")[-1].split(\".\")[0] for file in files if file.startswith(\"SD_fake_\")]\n",
    "\n",
    "# Read the CSV file\n",
    "df = pd.read_csv(csv_file_path)\n",
    "print(\"df length: \"+str(len(df)))\n",
    "\n",
    "# Get unique image ids from the CSV column\n",
    "csv_image_ids = df['id'].astype(str).unique()\n",
    "\n",
    "# Check if the two sets of IDs are equal\n",
    "are_ids_equal = set(csv_image_ids) == set(folder_image_ids)\n",
    "\n",
    "if are_ids_equal:\n",
    "    print(\"The IDs in the CSV are equal to the IDs in the folder.\")\n",
    "else:\n",
    "    print(\"The IDs in the CSV are not equal to the IDs in the folder.\")\n"
   ]
  },
  {
   "cell_type": "markdown",
   "metadata": {},
   "source": [
    "CHECK IDS IN VALIDATION FOR SD"
   ]
  },
  {
   "cell_type": "code",
   "execution_count": 2,
   "metadata": {},
   "outputs": [
    {
     "name": "stdout",
     "output_type": "stream",
     "text": [
      "The IDs in the specified range are the same in both CSV files.\n"
     ]
    }
   ],
   "source": [
    "import pandas as pd\n",
    "\n",
    "# Load the two CSV files into DataFrames\n",
    "df2 = pd.read_csv('/home/enriconello/DeepFakeDetection/Thesis/3_image_generation/generated_images/validation/validation_SD.csv')\n",
    "df1 = pd.read_csv('/home/enriconello/DeepFakeDetection/Thesis/2_image_captioning/csv/validation_captioned_final.csv')\n",
    "\n",
    "# Extract the 'id' columns from both DataFrames in the common range\n",
    "ids_df1 = set(df1.iloc[:8000]['id'])\n",
    "ids_df2 = set(df2['id'])\n",
    "\n",
    "# Find the IDs that are in df1 but not in df2\n",
    "ids_difference = ids_df1 - ids_df2\n",
    "\n",
    "if not ids_difference:\n",
    "    print(\"The IDs in the specified range are the same in both CSV files.\")\n",
    "else:\n",
    "    print(\"The following IDs differ between the two CSV files:\")\n",
    "    print(ids_difference)\n"
   ]
  },
  {
   "cell_type": "markdown",
   "metadata": {},
   "source": [
    "CHECK IDS IN TEST FOR SD"
   ]
  },
  {
   "cell_type": "code",
   "execution_count": 3,
   "metadata": {},
   "outputs": [
    {
     "name": "stdout",
     "output_type": "stream",
     "text": [
      "The IDs in the specified range are the same in both CSV files.\n"
     ]
    }
   ],
   "source": [
    "import pandas as pd\n",
    "\n",
    "# Load the two CSV files into DataFrames\n",
    "df2 = pd.read_csv('/home/enriconello/DeepFakeDetection/Thesis/3_image_generation/generated_images/test/test_SD.csv')\n",
    "df1 = pd.read_csv('/home/enriconello/DeepFakeDetection/Thesis/2_image_captioning/csv/test_captioned_final.csv')\n",
    "\n",
    "# Extract the 'id' columns from both DataFrames in the common range\n",
    "ids_df1 = set(df1.iloc[:8000]['id'])\n",
    "ids_df2 = set(df2['id'])\n",
    "\n",
    "# Find the IDs that are in df1 but not in df2\n",
    "ids_difference = ids_df1 - ids_df2\n",
    "\n",
    "if not ids_difference:\n",
    "    print(\"The IDs in the specified range are the same in both CSV files.\")\n",
    "else:\n",
    "    print(\"The following IDs differ between the two CSV files:\")\n",
    "    print(ids_difference)\n"
   ]
  },
  {
   "cell_type": "markdown",
   "metadata": {},
   "source": [
    "CHECK IDS IN VALIDATION FOR DL"
   ]
  },
  {
   "cell_type": "code",
   "execution_count": 12,
   "metadata": {},
   "outputs": [
    {
     "name": "stdout",
     "output_type": "stream",
     "text": [
      "The IDs in the specified range are the same in both CSV files.\n"
     ]
    }
   ],
   "source": [
    "import pandas as pd\n",
    "\n",
    "# Load the two CSV files into DataFrames\n",
    "df2 = pd.read_csv('/home/enriconello/DeepFakeDetection/Thesis/3_image_generation/generated_images/validation/validation_DL.csv')\n",
    "df1 = pd.read_csv('/home/enriconello/DeepFakeDetection/Thesis/2_image_captioning/csv/validation_captioned_final.csv')\n",
    "\n",
    "# Extract the 'id' columns from both DataFrames in the common range\n",
    "ids_df1 = set(df1.iloc[8000:16000]['id'])\n",
    "ids_df2 = set(df2['id'])\n",
    "\n",
    "# Find the IDs that are in df1 but not in df2\n",
    "ids_difference1 = ids_df1 - ids_df2\n",
    "ids_difference2 = ids_df2 - ids_df1\n",
    "\n",
    "if not ids_difference1 and not ids_difference2:\n",
    "    print(\"The IDs in the specified range are the same in both CSV files.\")\n",
    "else:\n",
    "    print(\"The following IDs differ between the two CSV files:\")\n",
    "    print(\"to be added: \"+str(ids_difference1))\n",
    "    print(\"to be removed: \"+str(ids_difference2))"
   ]
  },
  {
   "cell_type": "code",
   "execution_count": 9,
   "metadata": {},
   "outputs": [
    {
     "name": "stdout",
     "output_type": "stream",
     "text": [
      "The index of the row with id '4qd1ar' is: 16000\n"
     ]
    }
   ],
   "source": [
    "# Assuming your DataFrame is named df\n",
    "index_of_row = df1[df1['id'] == '4qd1ar'].index[0]\n",
    "\n",
    "print(f\"The index of the row with id '4qd1ar' is: {index_of_row}\")"
   ]
  },
  {
   "cell_type": "code",
   "execution_count": 23,
   "metadata": {},
   "outputs": [
    {
     "name": "stdout",
     "output_type": "stream",
     "text": [
      "Length of 'validation_SD.csv': 8000\n",
      "Length of 'validation_DL.csv': 8000\n",
      "Number of images in the 'validation' folder: 16000\n",
      "The number of images inside the 'validation' folder is equal to the sum of images in 'validation_SD.csv' and 'validation_DL.csv'.\n"
     ]
    }
   ],
   "source": [
    "import os\n",
    "import pandas as pd\n",
    "\n",
    "folder_path = \"generated_images/validation\"\n",
    "csv_sd_file_path = \"generated_images/validation/validation_SD.csv\"\n",
    "csv_dl_file_path = \"generated_images/validation/validation_DL.csv\"\n",
    "\n",
    "# Get a list of all files in the folder\n",
    "files = os.listdir(folder_path)\n",
    "\n",
    "# Extract image ids from file names in the folder\n",
    "folder_image_ids = [file.split(\"_\")[-1].split(\".\")[0] for file in files if file.__contains__(\"_fake_\")]\n",
    "\n",
    "# Read the CSV files\n",
    "df_sd = pd.read_csv(csv_sd_file_path)\n",
    "df_dl = pd.read_csv(csv_dl_file_path)\n",
    "\n",
    "# Get unique image ids from the CSV columns\n",
    "csv_sd_image_ids = df_sd['id'].astype(str).unique()\n",
    "csv_dl_image_ids = df_dl['id'].astype(str).unique()\n",
    "\n",
    "# Count all images in the folder with supported image extensions\n",
    "supported_extensions = ['.png', '.jpg', '.jpeg']\n",
    "total_folder_images = sum(1 for file in files if any(file.lower().endswith(ext) for ext in supported_extensions))\n",
    "\n",
    "# Print the lengths of each CSV and the number of images in the folder\n",
    "print(\"Length of 'validation_SD.csv':\", len(df_sd))\n",
    "print(\"Length of 'validation_DL.csv':\", len(df_dl))\n",
    "print(\"Number of images in the 'validation' folder:\", total_folder_images)\n",
    "\n",
    "if len(set(folder_image_ids)) == len(set(csv_sd_image_ids)) + len(set(csv_dl_image_ids)):\n",
    "    print(\"The number of images inside the 'validation' folder is equal to the sum of images in 'validation_SD.csv' and 'validation_DL.csv'.\")\n",
    "else:\n",
    "    print(\"The number of images inside the 'validation' folder is not equal to the sum of images in 'validation_SD.csv' and 'validation_DL.csv'.\")\n"
   ]
  },
  {
   "cell_type": "code",
   "execution_count": 24,
   "metadata": {},
   "outputs": [
    {
     "name": "stdout",
     "output_type": "stream",
     "text": [
      "All the IDs from df1[0:16000] are the same as the IDs in df2 and df3 together.\n"
     ]
    }
   ],
   "source": [
    "import pandas as pd\n",
    "\n",
    "# Load the CSV files into DataFrames\n",
    "df2 = pd.read_csv('/home/enriconello/DeepFakeDetection/Thesis/3_image_generation/generated_images/validation/validation_DL.csv')\n",
    "df3 = pd.read_csv('/home/enriconello/DeepFakeDetection/Thesis/3_image_generation/generated_images/validation/validation_SD.csv')  # Replace '/path/to/your/df3.csv' with the actual path\n",
    "\n",
    "df1 = pd.read_csv('/home/enriconello/DeepFakeDetection/Thesis/2_image_captioning/csv/validation_captioned_final.csv')\n",
    "\n",
    "# Extract the 'id' columns from df1 in the specified range [0:16000]\n",
    "ids_df1 = set(df1.iloc[0:16000]['id'])\n",
    "\n",
    "# Extract the 'id' columns from both df2 and df3\n",
    "ids_df2_df3 = set(df2['id']).union(set(df3['id']))\n",
    "\n",
    "# Check if all IDs from df1 are the same as the IDs in df2 and df3 together\n",
    "if ids_df1 == ids_df2_df3:\n",
    "    print(\"All the IDs from df1[0:16000] are the same as the IDs in df2 and df3 together.\")\n",
    "else:\n",
    "    print(\"Not all the IDs from df1[0:16000] are the same as the IDs in df2 and df3 together.\")"
   ]
  },
  {
   "cell_type": "markdown",
   "metadata": {},
   "source": [
    "CHECK IDS IN TEST FOR DL"
   ]
  },
  {
   "cell_type": "code",
   "execution_count": 25,
   "metadata": {},
   "outputs": [
    {
     "name": "stdout",
     "output_type": "stream",
     "text": [
      "The following IDs differ between the two CSV files:\n",
      "to be added: {'54x020'}\n",
      "to be removed: {'1j84y1'}\n"
     ]
    }
   ],
   "source": [
    "import pandas as pd\n",
    "\n",
    "# Load the two CSV files into DataFrames\n",
    "df2 = pd.read_csv('/home/enriconello/DeepFakeDetection/Thesis/3_image_generation/generated_images/test/test_DL.csv')\n",
    "df1 = pd.read_csv('/home/enriconello/DeepFakeDetection/Thesis/2_image_captioning/csv/test_captioned_final.csv')\n",
    "\n",
    "# Extract the 'id' columns from both DataFrames in the common range\n",
    "ids_df1 = set(df1.iloc[8000:16000]['id'])\n",
    "ids_df2 = set(df2['id'])\n",
    "\n",
    "# Find the IDs that are in df1 but not in df2\n",
    "ids_difference1 = ids_df1 - ids_df2\n",
    "ids_difference2 = ids_df2 - ids_df1\n",
    "\n",
    "if not ids_difference1 and not ids_difference2:\n",
    "    print(\"The IDs in the specified range are the same in both CSV files.\")\n",
    "else:\n",
    "    print(\"The following IDs differ between the two CSV files:\")\n",
    "    print(\"to be added: \"+str(ids_difference1))\n",
    "    print(\"to be removed: \"+str(ids_difference2))"
   ]
  },
  {
   "cell_type": "code",
   "execution_count": 26,
   "metadata": {},
   "outputs": [
    {
     "name": "stdout",
     "output_type": "stream",
     "text": [
      "The index of the row with id '54x020' is: 8000\n"
     ]
    }
   ],
   "source": [
    "# Assuming your DataFrame is named df\n",
    "index_of_row = df1[df1['id'] == '54x020'].index[0]\n",
    "\n",
    "print(f\"The index of the row with id '54x020' is: {index_of_row}\")"
   ]
  },
  {
   "cell_type": "code",
   "execution_count": 27,
   "metadata": {},
   "outputs": [
    {
     "name": "stdout",
     "output_type": "stream",
     "text": [
      "Length of 'test_SD.csv': 8000\n",
      "Length of 'test_DL.csv': 8000\n",
      "Number of images in the 'test' folder: 16000\n",
      "The number of images inside the 'test' folder is equal to the sum of images in 'test_SD.csv' and 'test_DL.csv'.\n"
     ]
    }
   ],
   "source": [
    "import os\n",
    "import pandas as pd\n",
    "\n",
    "folder_path = \"generated_images/test\"\n",
    "csv_sd_file_path = \"generated_images/test/test_SD.csv\"\n",
    "csv_dl_file_path = \"generated_images/test/test_DL.csv\"\n",
    "\n",
    "# Get a list of all files in the folder\n",
    "files = os.listdir(folder_path)\n",
    "\n",
    "# Extract image ids from file names in the folder\n",
    "folder_image_ids = [file.split(\"_\")[-1].split(\".\")[0] for file in files if file.__contains__(\"_fake_\")]\n",
    "\n",
    "# Read the CSV files\n",
    "df_sd = pd.read_csv(csv_sd_file_path)\n",
    "df_dl = pd.read_csv(csv_dl_file_path)\n",
    "\n",
    "# Get unique image ids from the CSV columns\n",
    "csv_sd_image_ids = df_sd['id'].astype(str).unique()\n",
    "csv_dl_image_ids = df_dl['id'].astype(str).unique()\n",
    "\n",
    "# Count all images in the folder with supported image extensions\n",
    "supported_extensions = ['.png', '.jpg', '.jpeg']\n",
    "total_folder_images = sum(1 for file in files if any(file.lower().endswith(ext) for ext in supported_extensions))\n",
    "\n",
    "# Print the lengths of each CSV and the number of images in the folder\n",
    "print(\"Length of 'test_SD.csv':\", len(df_sd))\n",
    "print(\"Length of 'test_DL.csv':\", len(df_dl))\n",
    "print(\"Number of images in the 'test' folder:\", total_folder_images)\n",
    "\n",
    "if len(set(folder_image_ids)) == len(set(csv_sd_image_ids)) + len(set(csv_dl_image_ids)):\n",
    "    print(\"The number of images inside the 'test' folder is equal to the sum of images in 'test_SD.csv' and 'test_DL.csv'.\")\n",
    "else:\n",
    "    print(\"The number of images inside the 'test' folder is not equal to the sum of images in 'test_SD.csv' and 'test_DL.csv'.\")"
   ]
  },
  {
   "cell_type": "code",
   "execution_count": 28,
   "metadata": {},
   "outputs": [
    {
     "name": "stdout",
     "output_type": "stream",
     "text": [
      "All the IDs from df1[0:16000] are the same as the IDs in df2 and df3 together.\n"
     ]
    }
   ],
   "source": [
    "import pandas as pd\n",
    "\n",
    "# Load the CSV files into DataFrames\n",
    "df2 = pd.read_csv('/home/enriconello/DeepFakeDetection/Thesis/3_image_generation/generated_images/test/test_DL.csv')\n",
    "df3 = pd.read_csv('/home/enriconello/DeepFakeDetection/Thesis/3_image_generation/generated_images/test/test_SD.csv')  # Replace '/path/to/your/df3.csv' with the actual path\n",
    "\n",
    "df1 = pd.read_csv('/home/enriconello/DeepFakeDetection/Thesis/2_image_captioning/csv/test_captioned_final.csv')\n",
    "\n",
    "# Extract the 'id' columns from df1 in the specified range [0:16000]\n",
    "ids_df1 = set(df1.iloc[0:16000]['id'])\n",
    "\n",
    "# Extract the 'id' columns from both df2 and df3\n",
    "ids_df2_df3 = set(df2['id']).union(set(df3['id']))\n",
    "\n",
    "# Check if all IDs from df1 are the same as the IDs in df2 and df3 together\n",
    "if ids_df1 == ids_df2_df3:\n",
    "    print(\"All the IDs from df1[0:16000] are the same as the IDs in df2 and df3 together.\")\n",
    "else:\n",
    "    print(\"Not all the IDs from df1[0:16000] are the same as the IDs in df2 and df3 together.\")"
   ]
  }
 ],
 "metadata": {
  "kernelspec": {
   "display_name": "venv",
   "language": "python",
   "name": "python3"
  },
  "language_info": {
   "codemirror_mode": {
    "name": "ipython",
    "version": 3
   },
   "file_extension": ".py",
   "mimetype": "text/x-python",
   "name": "python",
   "nbconvert_exporter": "python",
   "pygments_lexer": "ipython3",
   "version": "3.8.10"
  }
 },
 "nbformat": 4,
 "nbformat_minor": 2
}
