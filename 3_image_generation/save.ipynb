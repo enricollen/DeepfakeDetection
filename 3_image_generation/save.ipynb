{
 "cells": [
  {
   "cell_type": "code",
   "execution_count": 16,
   "metadata": {},
   "outputs": [
    {
     "name": "stdout",
     "output_type": "stream",
     "text": [
      "\n",
      "Total missing images: 0\n"
     ]
    }
   ],
   "source": [
    "import os\n",
    "import pandas as pd\n",
    "\n",
    "folder_path = \"generated_images/validation\"\n",
    "csv_file_path = \"/home/enriconello/DeepFakeDetection/Thesis/2_image_captioning/csv/validation_captioned_final.csv\"\n",
    "\n",
    "# Get a list of all files in the folder\n",
    "files = os.listdir(folder_path)\n",
    "\n",
    "# Extract image ids from file names in the folder\n",
    "folder_image_ids = {file.split(\"_\")[-1].split(\".\")[0] for file in files if file.startswith(\"SD_fake_\")}\n",
    "\n",
    "# Read the CSV file\n",
    "df = pd.read_csv(csv_file_path)\n",
    "\n",
    "# Get unique image ids from the CSV column\n",
    "csv_image_ids = set(df['id'].astype(str).unique()[:8000])\n",
    "\n",
    "# Find missing image ids\n",
    "missing_image_ids = csv_image_ids - folder_image_ids\n",
    "\n",
    "# Save missing ids to ids.txt\n",
    "with open(\"ids.txt\", \"w\") as file:\n",
    "    for image_id in missing_image_ids:\n",
    "        file.write(image_id + \"\\n\")\n",
    "\n",
    "print(\"\\nTotal missing images: {}\".format(len(missing_image_ids)))\n"
   ]
  },
  {
   "cell_type": "code",
   "execution_count": 19,
   "metadata": {},
   "outputs": [
    {
     "name": "stdout",
     "output_type": "stream",
     "text": [
      "Filtered DataFrame saved to generated_images/validation/validation_SD.csv\n"
     ]
    },
    {
     "name": "stderr",
     "output_type": "stream",
     "text": [
      "/tmp/ipykernel_3488189/1936797480.py:21: SettingWithCopyWarning: \n",
      "A value is trying to be set on a copy of a slice from a DataFrame.\n",
      "Try using .loc[row_indexer,col_indexer] = value instead\n",
      "\n",
      "See the caveats in the documentation: https://pandas.pydata.org/pandas-docs/stable/user_guide/indexing.html#returning-a-view-versus-a-copy\n",
      "  filtered_df['fake_id'] = 'SD_fake_' + filtered_df['id'].astype(str)\n"
     ]
    }
   ],
   "source": [
    "import os\n",
    "import pandas as pd\n",
    "\n",
    "folder_path = \"generated_images/validation\"\n",
    "csv_file_path = \"/home/enriconello/DeepFakeDetection/Thesis/2_image_captioning/csv/validation_captioned_final.csv\"\n",
    "output_csv_path = \"generated_images/validation/validation_SD.csv\"  # Change this to the desired output path\n",
    "\n",
    "# Get a list of all files in the folder\n",
    "files = os.listdir(folder_path)\n",
    "\n",
    "# Extract image ids from file names in the folder\n",
    "folder_image_ids = [file.split(\"_\")[-1].split(\".\")[0] for file in files if file.startswith(\"SD_fake_\")]\n",
    "\n",
    "# Read the CSV file\n",
    "df = pd.read_csv(csv_file_path)\n",
    "\n",
    "# Filter the DataFrame based on image IDs\n",
    "filtered_df = df[df['id'].astype(str).isin(folder_image_ids)]\n",
    "\n",
    "# Add a new column for fake IDs\n",
    "filtered_df['fake_id'] = 'SD_fake_' + filtered_df['id'].astype(str)\n",
    "\n",
    "# Save the filtered DataFrame to a new CSV file\n",
    "filtered_df.to_csv(output_csv_path, index=False)\n",
    "\n",
    "print(f\"Filtered DataFrame saved to {output_csv_path}\")"
   ]
  },
  {
   "cell_type": "code",
   "execution_count": 22,
   "metadata": {},
   "outputs": [
    {
     "name": "stdout",
     "output_type": "stream",
     "text": [
      "The IDs in the CSV are equal to the IDs in the folder.\n"
     ]
    }
   ],
   "source": [
    "import os\n",
    "import pandas as pd\n",
    "\n",
    "folder_path = \"generated_images/validation\"\n",
    "csv_file_path = \"generated_images/validation/validation_SD.csv\"\n",
    "\n",
    "# Get a list of all files in the folder\n",
    "files = os.listdir(folder_path)\n",
    "\n",
    "# Extract image ids from file names in the folder\n",
    "folder_image_ids = [file.split(\"_\")[-1].split(\".\")[0] for file in files if file.startswith(\"SD_fake_\")]\n",
    "\n",
    "# Read the CSV file\n",
    "df = pd.read_csv(csv_file_path)\n",
    "\n",
    "# Get unique image ids from the CSV column\n",
    "csv_image_ids = df['id'].astype(str).unique()\n",
    "\n",
    "# Check if the two sets of IDs are equal\n",
    "are_ids_equal = set(csv_image_ids) == set(folder_image_ids)\n",
    "\n",
    "if are_ids_equal:\n",
    "    print(\"The IDs in the CSV are equal to the IDs in the folder.\")\n",
    "else:\n",
    "    print(\"The IDs in the CSV are not equal to the IDs in the folder.\")\n"
   ]
  }
 ],
 "metadata": {
  "kernelspec": {
   "display_name": "venv",
   "language": "python",
   "name": "python3"
  },
  "language_info": {
   "codemirror_mode": {
    "name": "ipython",
    "version": 3
   },
   "file_extension": ".py",
   "mimetype": "text/x-python",
   "name": "python",
   "nbconvert_exporter": "python",
   "pygments_lexer": "ipython3",
   "version": "3.8.10"
  }
 },
 "nbformat": 4,
 "nbformat_minor": 2
}
