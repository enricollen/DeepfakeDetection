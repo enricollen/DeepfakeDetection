{
 "cells": [
  {
   "cell_type": "markdown",
   "metadata": {},
   "source": [
    "Copio da dataset_after_data_cleaning a train tutte le immagini dentro train.csv, ma saranno solo real e niente generate."
   ]
  },
  {
   "cell_type": "code",
   "execution_count": 2,
   "metadata": {},
   "outputs": [
    {
     "name": "stderr",
     "output_type": "stream",
     "text": [
      "C:\\Users\\nello\\AppData\\Local\\Temp\\ipykernel_7172\\2412205415.py:6: DtypeWarning: Columns (1,4) have mixed types. Specify dtype option on import or set low_memory=False.\n",
      "  csv_ids = set(pd.read_csv(\"csv/train/train.csv\")['id'])\n"
     ]
    },
    {
     "name": "stdout",
     "output_type": "stream",
     "text": [
      "Number of matching images: 385871\n",
      "Matching images moved successfully: 385871\n"
     ]
    }
   ],
   "source": [
    "import os\n",
    "import pandas as pd\n",
    "import shutil\n",
    "\n",
    "# Load the 'id' column from the CSV file into a set\n",
    "csv_ids = set(pd.read_csv(\"csv/train/train.csv\")['id'])\n",
    "\n",
    "# Get a list of all the image filenames in the folder\n",
    "folder_path = \"C:/Users/nello/Desktop/TESI/dataset_after_data_cleaning\"\n",
    "folder_images = set(filename.split('.')[0] for filename in os.listdir(folder_path))\n",
    "\n",
    "# Find the intersection to identify matching images\n",
    "matching_images = csv_ids.intersection(folder_images)\n",
    "\n",
    "# Count the number of matching images\n",
    "num_matching_images = len(matching_images)\n",
    "\n",
    "print(\"Number of matching images:\", num_matching_images)\n",
    "\n",
    "# Define the source folder and destination folder paths\n",
    "source_folder = folder_path\n",
    "destination_folder = \"C:/Users/nello/Desktop/TESI/dataset/train\"\n",
    "\n",
    "# Move the matching images to the destination folder\n",
    "num_images_moved = 0\n",
    "for image_name in matching_images:\n",
    "    source_file = os.path.join(source_folder, image_name + \".jpg\")\n",
    "    destination_file = os.path.join(destination_folder, image_name + \".jpg\")\n",
    "    shutil.move(source_file, destination_file)\n",
    "    num_images_moved += 1\n",
    "\n",
    "print(\"Matching images moved successfully:\", num_images_moved)"
   ]
  },
  {
   "cell_type": "markdown",
   "metadata": {},
   "source": [
    "Elimino le immagini i cui id sono nelle row dove fake_id non è vuoto, quindi sono i samples real in train"
   ]
  },
  {
   "cell_type": "code",
   "execution_count": 7,
   "metadata": {},
   "outputs": [
    {
     "name": "stderr",
     "output_type": "stream",
     "text": [
      "C:\\Users\\nello\\AppData\\Local\\Temp\\ipykernel_7172\\1200357297.py:4: DtypeWarning: Columns (1,4) have mixed types. Specify dtype option on import or set low_memory=False.\n",
      "  df = pd.read_csv('csv/train/train.csv')\n"
     ]
    },
    {
     "name": "stdout",
     "output_type": "stream",
     "text": [
      "Total number of images deleted: 192936\n"
     ]
    }
   ],
   "source": [
    "import os\n",
    "import pandas as pd\n",
    "\n",
    "df = pd.read_csv('csv/train/train.csv')\n",
    "\n",
    "ids_to_remove = set(df.loc[df['fake_id'].notnull(), 'id'])\n",
    "\n",
    "folder_path = \"C:/Users/nello/Desktop/TESI/dataset/train\"\n",
    "num_deleted_images = 0\n",
    "\n",
    "for filename in os.listdir(folder_path):\n",
    "    # Extract the id from the filename\n",
    "    id_from_filename = os.path.splitext(filename)[0]\n",
    "    # Check if the id is in the set of ids to remove\n",
    "    if id_from_filename in ids_to_remove:\n",
    "        file_path = os.path.join(folder_path, filename)\n",
    "        os.remove(file_path)\n",
    "        num_deleted_images += 1\n",
    "\n",
    "print(f\"Total number of images deleted: {num_deleted_images}\")"
   ]
  },
  {
   "cell_type": "markdown",
   "metadata": {},
   "source": [
    "sposto i fakes already_generated (sia class 0 che class 1,2,3,5) dalla cartella dataset_after_merging_WITH_DUPLICATES in train"
   ]
  },
  {
   "cell_type": "code",
   "execution_count": 12,
   "metadata": {},
   "outputs": [
    {
     "name": "stderr",
     "output_type": "stream",
     "text": [
      "100%|██████████| 55610/55610 [00:12<00:00, 4468.28it/s]"
     ]
    },
    {
     "name": "stdout",
     "output_type": "stream",
     "text": [
      "Number of images moved: 55610\n"
     ]
    },
    {
     "name": "stderr",
     "output_type": "stream",
     "text": [
      "\n"
     ]
    }
   ],
   "source": [
    "import os\n",
    "import shutil\n",
    "import pandas as pd\n",
    "from tqdm import tqdm\n",
    "\n",
    "csv_ids = set(pd.read_csv(\"C:/Users/nello/Documents/vscode_projects/Thesis/5_biased_detection/csv/train/train_class_0_already_generated.csv\")['fake_id'])\n",
    "\n",
    "source_folder_path = \"C:/Users/nello/Desktop/TESI/dataset_after_merging_WITH_DUPLICATES\"\n",
    "destination_folder_path = \"C:/Users/nello/Desktop/TESI/dataset/train\"\n",
    "\n",
    "num_images_moved = 0\n",
    "for image_name in tqdm(csv_ids):\n",
    "    source_file_path = os.path.join(source_folder_path, image_name + \".jpg\")\n",
    "    destination_file_path = os.path.join(destination_folder_path, image_name + \".jpg\")\n",
    "    \n",
    "    if os.path.exists(source_file_path):\n",
    "        shutil.move(source_file_path, destination_file_path)\n",
    "        num_images_moved += 1\n",
    "\n",
    "print(\"Number of images moved:\", num_images_moved)"
   ]
  },
  {
   "cell_type": "markdown",
   "metadata": {},
   "source": [
    "ora copio i fake nuovi da 5_biased_detection\\generated_images\\train class 0 e class 1,2,3,5"
   ]
  },
  {
   "cell_type": "code",
   "execution_count": 14,
   "metadata": {},
   "outputs": [
    {
     "name": "stdout",
     "output_type": "stream",
     "text": [
      "Number of images copied: 92936\n"
     ]
    }
   ],
   "source": [
    "import os\n",
    "import shutil\n",
    "\n",
    "folder_a_path = \"C:/Users/nello/Documents/vscode_projects/Thesis/5_biased_detection/generated_images/train/class_0\"\n",
    "folder_b_path = \"C:/Users/nello/Documents/vscode_projects/Thesis/5_biased_detection/generated_images/train/class_1_2_3_5\"\n",
    "folder_c_path = \"C:/Users/nello/Desktop/TESI/dataset/train\"\n",
    "\n",
    "# Initialize a counter for the number of images copied\n",
    "num_images_copied = 0\n",
    "\n",
    "# Iterate over files in folder A and copy them to folder C\n",
    "for filename in os.listdir(folder_a_path):\n",
    "    source_file_path = os.path.join(folder_a_path, filename)\n",
    "    if os.path.isfile(source_file_path):\n",
    "        destination_file_path = os.path.join(folder_c_path, filename)\n",
    "        shutil.copy(source_file_path, destination_file_path)\n",
    "        num_images_copied += 1\n",
    "\n",
    "# Iterate over files in folder B and copy them to folder C\n",
    "for filename in os.listdir(folder_b_path):\n",
    "    source_file_path = os.path.join(folder_b_path, filename)\n",
    "    if os.path.isfile(source_file_path):\n",
    "        destination_file_path = os.path.join(folder_c_path, filename)\n",
    "        shutil.copy(source_file_path, destination_file_path)\n",
    "        num_images_copied += 1\n",
    "\n",
    "print(\"Number of images copied:\", num_images_copied)\n"
   ]
  },
  {
   "cell_type": "markdown",
   "metadata": {},
   "source": [
    "check the matching images with train.csv "
   ]
  },
  {
   "cell_type": "code",
   "execution_count": 15,
   "metadata": {},
   "outputs": [
    {
     "name": "stderr",
     "output_type": "stream",
     "text": [
      "C:\\Users\\nello\\AppData\\Local\\Temp\\ipykernel_7172\\4271053843.py:5: DtypeWarning: Columns (1,4) have mixed types. Specify dtype option on import or set low_memory=False.\n",
      "  df = pd.read_csv(\"csv/train/train.csv\")\n"
     ]
    },
    {
     "name": "stdout",
     "output_type": "stream",
     "text": [
      "Number of matching images: 385871\n"
     ]
    }
   ],
   "source": [
    "import os\n",
    "import pandas as pd\n",
    "\n",
    "# Load the CSV file\n",
    "df = pd.read_csv(\"csv/train/train.csv\")\n",
    "\n",
    "# Filter rows where 'fake_id' column is empty and collect 'id' values\n",
    "csv_ids = set(df.loc[df['fake_id'].isnull(), 'id'])\n",
    "\n",
    "# Filter rows where 'fake_id' column is not empty and collect 'fake_id' values\n",
    "fake_csv_ids = set(df.loc[df['fake_id'].notnull(), 'fake_id'])\n",
    "\n",
    "# Union of 'id' and 'fake_id' values\n",
    "all_ids = csv_ids.union(fake_csv_ids)\n",
    "\n",
    "# Get a list of all the image filenames in the folder\n",
    "folder_path = \"C:/Users/nello/Desktop/TESI/dataset/train\"\n",
    "folder_images = set(filename.split('.')[0] for filename in os.listdir(folder_path))\n",
    "\n",
    "# Find the intersection to identify matching images\n",
    "matching_images = all_ids.intersection(folder_images)\n",
    "\n",
    "# Count the number of matching images\n",
    "num_matching_images = len(matching_images)\n",
    "\n",
    "print(\"Number of matching images:\", num_matching_images)"
   ]
  },
  {
   "cell_type": "markdown",
   "metadata": {},
   "source": [
    "print out how many generated images there are and with which method was created"
   ]
  },
  {
   "cell_type": "code",
   "execution_count": 1,
   "metadata": {},
   "outputs": [
    {
     "name": "stdout",
     "output_type": "stream",
     "text": [
      "Number of images starting with 'SD': 70000\n",
      "Number of images starting with 'DL': 70000\n",
      "Number of images starting with 'GL': 52936\n"
     ]
    }
   ],
   "source": [
    "import os\n",
    "\n",
    "folder_path = \"C:/Users/nello/Desktop/TESI/dataset/train\"\n",
    "\n",
    "count_SD = 0\n",
    "count_DL = 0\n",
    "count_GL = 0\n",
    "\n",
    "for filename in os.listdir(folder_path):\n",
    "    if filename.startswith(\"SD\"):\n",
    "        count_SD += 1\n",
    "    elif filename.startswith(\"DL\"):\n",
    "        count_DL += 1\n",
    "    elif filename.startswith(\"GL\"):\n",
    "        count_GL += 1\n",
    "\n",
    "print(\"Number of images starting with 'SD':\", count_SD)\n",
    "print(\"Number of images starting with 'DL':\", count_DL)\n",
    "print(\"Number of images starting with 'GL':\", count_GL)"
   ]
  },
  {
   "cell_type": "markdown",
   "metadata": {},
   "source": [
    "------------------"
   ]
  },
  {
   "cell_type": "markdown",
   "metadata": {},
   "source": [
    "Move from dataset_after_merging_WITH_DUPLICATES to dataset/train. Note, these are "
   ]
  },
  {
   "cell_type": "code",
   "execution_count": 7,
   "metadata": {},
   "outputs": [
    {
     "name": "stdout",
     "output_type": "stream",
     "text": [
      "Number of matching images: 40909\n",
      "Matching images moved successfully: 40909\n"
     ]
    }
   ],
   "source": [
    "import os\n",
    "import pandas as pd\n",
    "import shutil\n",
    "\n",
    "# Load the 'id' column from the CSV file into a set\n",
    "csv_ids = set(pd.read_csv(\"csv/validation/validation.csv\")['id'])\n",
    "\n",
    "# Get a list of all the image filenames in the folder\n",
    "folder_path = \"C:/Users/nello/Desktop/TESI/dataset_after_merging_WITH_DUPLICATES\"\n",
    "folder_images = set(filename.split('.')[0] for filename in os.listdir(folder_path))\n",
    "\n",
    "# Find the intersection to identify matching images\n",
    "matching_images = csv_ids.intersection(folder_images)\n",
    "\n",
    "# Count the number of matching images\n",
    "num_matching_images = len(matching_images)\n",
    "\n",
    "print(\"Number of matching images:\", num_matching_images)\n",
    "\n",
    "# Define the source folder and destination folder paths\n",
    "source_folder = folder_path\n",
    "destination_folder = \"C:/Users/nello/Desktop/TESI/dataset/validation\"\n",
    "\n",
    "# Move the matching images to the destination folder\n",
    "num_images_moved = 0\n",
    "for image_name in matching_images:\n",
    "    source_file = os.path.join(source_folder, image_name + \".jpg\")\n",
    "    destination_file = os.path.join(destination_folder, image_name + \".jpg\")\n",
    "    shutil.move(source_file, destination_file)\n",
    "    num_images_moved += 1\n",
    "\n",
    "print(\"Matching images moved successfully:\", num_images_moved)"
   ]
  },
  {
   "cell_type": "markdown",
   "metadata": {},
   "source": [
    "move fakes already_generated (class 0 and class 1,2,3,5) from dataset_after_merging_WITH_DUPLICATES to validation"
   ]
  },
  {
   "cell_type": "code",
   "execution_count": 10,
   "metadata": {},
   "outputs": [
    {
     "name": "stderr",
     "output_type": "stream",
     "text": [
      "  0%|          | 0/4398 [00:00<?, ?it/s]"
     ]
    },
    {
     "name": "stderr",
     "output_type": "stream",
     "text": [
      "100%|██████████| 4398/4398 [00:00<00:00, 5204.41it/s]"
     ]
    },
    {
     "name": "stdout",
     "output_type": "stream",
     "text": [
      "Number of images moved: 4398\n"
     ]
    },
    {
     "name": "stderr",
     "output_type": "stream",
     "text": [
      "\n"
     ]
    }
   ],
   "source": [
    "import os\n",
    "import shutil\n",
    "import pandas as pd\n",
    "from tqdm import tqdm\n",
    "\n",
    "csv_ids = set(pd.read_csv(\"C:/Users/nello/Documents/vscode_projects/Thesis/5_biased_detection/csv/validation/validation_class_1_2_3_5_already_generated.csv\")['fake_id'])\n",
    "\n",
    "source_folder_path = \"C:/Users/nello/Desktop/TESI/dataset_after_merging_WITH_DUPLICATES\"\n",
    "destination_folder_path = \"C:/Users/nello/Desktop/TESI/dataset/validation\"\n",
    "\n",
    "num_images_moved = 0\n",
    "for image_name in tqdm(csv_ids):\n",
    "    source_file_path = os.path.join(source_folder_path, image_name + \".jpg\")\n",
    "    destination_file_path = os.path.join(destination_folder_path, image_name + \".jpg\")\n",
    "    \n",
    "    if os.path.exists(source_file_path):\n",
    "        shutil.move(source_file_path, destination_file_path)\n",
    "        num_images_moved += 1\n",
    "\n",
    "print(\"Number of images moved:\", num_images_moved)"
   ]
  },
  {
   "cell_type": "markdown",
   "metadata": {},
   "source": [
    "Now copy the new generated images from 5_biased_detection\\generated_images\\validation class 0 and class 1,2,3,5"
   ]
  },
  {
   "cell_type": "code",
   "execution_count": 11,
   "metadata": {},
   "outputs": [
    {
     "name": "stdout",
     "output_type": "stream",
     "text": [
      "Number of images copied: 10453\n"
     ]
    }
   ],
   "source": [
    "import os\n",
    "import shutil\n",
    "\n",
    "folder_a_path = \"C:/Users/nello/Documents/vscode_projects/Thesis/5_biased_detection/generated_images/validation/class_0\"\n",
    "folder_b_path = \"C:/Users/nello/Documents/vscode_projects/Thesis/5_biased_detection/generated_images/validation/class_1_2_3_5\"\n",
    "folder_c_path = \"C:/Users/nello/Desktop/TESI/dataset/validation\"\n",
    "\n",
    "num_images_copied = 0\n",
    "\n",
    "for filename in os.listdir(folder_a_path):\n",
    "    source_file_path = os.path.join(folder_a_path, filename)\n",
    "    if os.path.isfile(source_file_path):\n",
    "        destination_file_path = os.path.join(folder_c_path, filename)\n",
    "        shutil.copy(source_file_path, destination_file_path)\n",
    "        num_images_copied += 1\n",
    "\n",
    "for filename in os.listdir(folder_b_path):\n",
    "    source_file_path = os.path.join(folder_b_path, filename)\n",
    "    if os.path.isfile(source_file_path):\n",
    "        destination_file_path = os.path.join(folder_c_path, filename)\n",
    "        shutil.copy(source_file_path, destination_file_path)\n",
    "        num_images_copied += 1\n",
    "\n",
    "print(\"Number of images copied:\", num_images_copied)"
   ]
  },
  {
   "cell_type": "markdown",
   "metadata": {},
   "source": [
    "Check that every images match with validation.csv"
   ]
  },
  {
   "cell_type": "code",
   "execution_count": 12,
   "metadata": {},
   "outputs": [
    {
     "name": "stdout",
     "output_type": "stream",
     "text": [
      "Number of matching images: 40908\n"
     ]
    }
   ],
   "source": [
    "import os\n",
    "import pandas as pd\n",
    "\n",
    "df = pd.read_csv(\"csv/validation/validation.csv\")\n",
    "\n",
    "# Filter rows where 'fake_id' column is empty and collect 'id' values\n",
    "csv_ids = set(df.loc[df['fake_id'].isnull(), 'id'])\n",
    "\n",
    "# Filter rows where 'fake_id' column is not empty and collect 'fake_id' values\n",
    "fake_csv_ids = set(df.loc[df['fake_id'].notnull(), 'fake_id'])\n",
    "\n",
    "# Union of 'id' and 'fake_id' values\n",
    "all_ids = csv_ids.union(fake_csv_ids)\n",
    "\n",
    "folder_path = \"C:/Users/nello/Desktop/TESI/dataset/validation\"\n",
    "folder_images = set(filename.split('.')[0] for filename in os.listdir(folder_path))\n",
    "\n",
    "# Find the intersection to identify matching images\n",
    "matching_images = all_ids.intersection(folder_images)\n",
    "\n",
    "num_matching_images = len(matching_images)\n",
    "print(\"Number of matching images:\", num_matching_images)"
   ]
  },
  {
   "cell_type": "markdown",
   "metadata": {},
   "source": [
    "Check the number of fakes and their generation method"
   ]
  },
  {
   "cell_type": "code",
   "execution_count": 13,
   "metadata": {},
   "outputs": [
    {
     "name": "stdout",
     "output_type": "stream",
     "text": [
      "Number of images starting with 'SD': 7000\n",
      "Number of images starting with 'DL': 7000\n",
      "Number of images starting with 'GL': 6453\n"
     ]
    }
   ],
   "source": [
    "import os\n",
    "\n",
    "folder_path = \"C:/Users/nello/Desktop/TESI/dataset/validation\"\n",
    "\n",
    "count_SD = 0\n",
    "count_DL = 0\n",
    "count_GL = 0\n",
    "\n",
    "for filename in os.listdir(folder_path):\n",
    "    if filename.startswith(\"SD\"):\n",
    "        count_SD += 1\n",
    "    elif filename.startswith(\"DL\"):\n",
    "        count_DL += 1\n",
    "    elif filename.startswith(\"GL\"):\n",
    "        count_GL += 1\n",
    "\n",
    "print(\"Number of images starting with 'SD':\", count_SD)\n",
    "print(\"Number of images starting with 'DL':\", count_DL)\n",
    "print(\"Number of images starting with 'GL':\", count_GL)"
   ]
  },
  {
   "cell_type": "markdown",
   "metadata": {},
   "source": [
    "Add the column of real duplicates to validation.csv, thus creating validation_with_duplicates.csv"
   ]
  },
  {
   "cell_type": "code",
   "execution_count": 16,
   "metadata": {},
   "outputs": [],
   "source": [
    "import pandas as pd\n",
    "\n",
    "# Read the CSV file A\n",
    "df_a = pd.read_csv(\"csv/validation/validation.csv\")\n",
    "\n",
    "# Create an empty list to store rows for CSV file B\n",
    "rows_b = []\n",
    "\n",
    "# Iterate over the rows of CSV file A\n",
    "for index, row in df_a.iterrows():\n",
    "    # If fake_id is not empty\n",
    "    if pd.notnull(row['fake_id']):\n",
    "        # Create a new row for CSV file B with modified values\n",
    "        new_row = row.copy()\n",
    "        new_row['fake_id'] = None  # Empty fake_id\n",
    "        new_row['generated_caption'] = ''  # Empty generated_caption\n",
    "        new_row['pristine_image'] = 1  # pristine_image=1\n",
    "        new_row['generated_image'] = 0  # generated_image=0\n",
    "        # Append the new row to the list\n",
    "        rows_b.append(new_row)\n",
    "\n",
    "# Create DataFrame for CSV file B\n",
    "df_b = pd.concat([df_a] + [pd.DataFrame(rows_b)], ignore_index=True)\n",
    "\n",
    "# Save DataFrame B to CSV file\n",
    "df_b.to_csv(\"csv/validation/validation_with_duplicates.csv\", index=False)"
   ]
  },
  {
   "cell_type": "markdown",
   "metadata": {},
   "source": [
    "check the number of matches with duplicates"
   ]
  },
  {
   "cell_type": "code",
   "execution_count": 17,
   "metadata": {},
   "outputs": [
    {
     "name": "stdout",
     "output_type": "stream",
     "text": [
      "Number of matching images: 61362\n"
     ]
    }
   ],
   "source": [
    "import os\n",
    "import pandas as pd\n",
    "\n",
    "df = pd.read_csv(\"csv/validation/validation_with_duplicates.csv\")\n",
    "\n",
    "# Filter rows where 'fake_id' column is empty and collect 'id' values\n",
    "csv_ids = set(df.loc[df['fake_id'].isnull(), 'id'])\n",
    "\n",
    "# Filter rows where 'fake_id' column is not empty and collect 'fake_id' values\n",
    "fake_csv_ids = set(df.loc[df['fake_id'].notnull(), 'fake_id'])\n",
    "\n",
    "# Union of 'id' and 'fake_id' values\n",
    "all_ids = csv_ids.union(fake_csv_ids)\n",
    "\n",
    "folder_path = \"C:/Users/nello/Desktop/TESI/dataset/validation\"\n",
    "folder_images = set(filename.split('.')[0] for filename in os.listdir(folder_path))\n",
    "\n",
    "# Find the intersection to identify matching images\n",
    "matching_images = all_ids.intersection(folder_images)\n",
    "\n",
    "num_matching_images = len(matching_images)\n",
    "print(\"Number of matching images:\", num_matching_images)"
   ]
  }
 ],
 "metadata": {
  "kernelspec": {
   "display_name": "Python 3",
   "language": "python",
   "name": "python3"
  },
  "language_info": {
   "codemirror_mode": {
    "name": "ipython",
    "version": 3
   },
   "file_extension": ".py",
   "mimetype": "text/x-python",
   "name": "python",
   "nbconvert_exporter": "python",
   "pygments_lexer": "ipython3",
   "version": "3.11.7"
  }
 },
 "nbformat": 4,
 "nbformat_minor": 2
}
