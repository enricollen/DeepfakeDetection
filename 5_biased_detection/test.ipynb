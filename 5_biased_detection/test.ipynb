{
 "cells": [
  {
   "cell_type": "markdown",
   "metadata": {},
   "source": [
    "select from the old test.csv the \"fake\"images (class == 1), that contains both the generated images and the manipulated images"
   ]
  },
  {
   "cell_type": "code",
   "execution_count": 2,
   "metadata": {},
   "outputs": [],
   "source": [
    "\n",
    "import os\n",
    "import shutil\n",
    "import pandas as pd\n",
    "\n",
    "df = pd.read_csv(\"C:/Users/nello/Documents/vscode_projects/Thesis/4_deepfake_detection/csv/test.csv\")\n",
    "\n",
    "# Filter the DataFrame based on conditions: exclude images starting with \"SD\", \"DL\" or \"GL\" and have class == 1\n",
    "filtered_df = df[df['class'] == 1]\n",
    "\n",
    "selected_ids = filtered_df['id']\n",
    "selected_ids.to_csv(\"class1.csv\")"
   ]
  },
  {
   "cell_type": "markdown",
   "metadata": {},
   "source": [
    "exclude the test images that were belonging to class 4 originally (manipulated images)"
   ]
  },
  {
   "cell_type": "code",
   "execution_count": 3,
   "metadata": {},
   "outputs": [],
   "source": [
    "import pandas as pd\n",
    "\n",
    "# Load the DataFrame from the original CSV file\n",
    "df = pd.read_csv(\"class1.csv\")\n",
    "\n",
    "# Filter the DataFrame to include only rows where the id column does not start with \"SD_\", \"DL_\", or \"GL_\"\n",
    "filtered_df = df[~df['id'].str.startswith(('SD_', 'DL_', 'GL_'))]\n",
    "\n",
    "# Save the filtered DataFrame with only the id column to a new CSV file\n",
    "filtered_df[['id']].to_csv(\"class4_to_exclude.csv\", index=False)\n"
   ]
  },
  {
   "cell_type": "markdown",
   "metadata": {},
   "source": [
    "copy from dataset_after_merging_WITH_DUPLICATES to new_dataset/test"
   ]
  },
  {
   "cell_type": "code",
   "execution_count": 8,
   "metadata": {},
   "outputs": [
    {
     "name": "stdout",
     "output_type": "stream",
     "text": [
      "51567\n",
      "Total number of copied images: 51567\n"
     ]
    }
   ],
   "source": [
    "import os\n",
    "import shutil\n",
    "import pandas as pd\n",
    "\n",
    "selected_ids = pd.read_csv(\"C:/Users/nello/Documents/vscode_projects/Thesis/4_deepfake_detection/csv/test.csv\")[\"id\"]\n",
    "\n",
    "# Load excluded IDs from the second CSV file\n",
    "excluded_ids = pd.read_csv(\"class4_to_exclude.csv\")[\"id\"]\n",
    "\n",
    "# Exclude IDs from selected_ids if they are in the excluded_ids list\n",
    "selected_ids = selected_ids[~selected_ids.isin(excluded_ids)]\n",
    "\n",
    "print(len(selected_ids))\n",
    "\n",
    "# Get a list of all the image filenames in the folder (without extensions)\n",
    "folder_path = \"C:/Users/nello/Desktop/TESI/dataset_after_merging_WITH_DUPLICATES\"\n",
    "folder_images = set(os.path.splitext(filename)[0] for filename in os.listdir(folder_path))\n",
    "\n",
    "# Find the intersection to identify matching images\n",
    "matching_images = set(selected_ids).intersection(folder_images)\n",
    "\n",
    "destination_folder = 'C:/Users/nello/Desktop/TESI/dataset/test'\n",
    "\n",
    "num_copied_images = 0\n",
    "for image_name in matching_images:\n",
    "    source_path = os.path.join(folder_path, image_name + \".jpg\")\n",
    " \n",
    "    destination_path = os.path.join(destination_folder, image_name + \".jpg\")  \n",
    "    \n",
    "    #shutil.copy(source_path, destination_path)\n",
    "    \n",
    "    num_copied_images += 1\n",
    "\n",
    "print(\"Total number of copied images:\", num_copied_images)"
   ]
  },
  {
   "cell_type": "markdown",
   "metadata": {},
   "source": [
    "also save the new test csv for the new dataset, starting from old text csv and excluding the manipulated images (class 4)"
   ]
  },
  {
   "cell_type": "code",
   "execution_count": 11,
   "metadata": {},
   "outputs": [],
   "source": [
    "import pandas as pd\n",
    "\n",
    "df_a = pd.read_csv(\"C:/Users/nello/Documents/vscode_projects/Thesis/4_deepfake_detection/csv/test.csv\")\n",
    "df_b = pd.read_csv(\"class4_to_exclude.csv\")\n",
    "\n",
    "# Perform a left join on \"id\" column\n",
    "merged_df = pd.merge(df_a, df_b, on=\"id\", how=\"left\", indicator=True)\n",
    "\n",
    "# Filter rows where the merge resulted in null values in DataFrame B\n",
    "filtered_df = merged_df[merged_df['_merge'] == 'left_only']\n",
    "\n",
    "# Select only the columns from DataFrame A and save to CSV file C\n",
    "filtered_df.drop(columns='_merge').to_csv(\"csv/test/test.csv\", index=False)"
   ]
  },
  {
   "cell_type": "markdown",
   "metadata": {},
   "source": [
    "now rename the columns"
   ]
  },
  {
   "cell_type": "code",
   "execution_count": 14,
   "metadata": {},
   "outputs": [],
   "source": [
    "import pandas as pd\n",
    "\n",
    "df = pd.read_csv(\"csv/test/test.csv\")\n",
    "\n",
    "# Rename the columns\n",
    "df = df.rename(columns={\"real_image\": \"pristine_image\", \"fake_image\": \"generated_image\"})\n",
    "\n",
    "df.to_csv(\"csv/test/test.csv\", index=False)"
   ]
  },
  {
   "cell_type": "markdown",
   "metadata": {},
   "source": [
    "check whether the generated images are just the only that we generate (starts with SD, GL or DL) without the class 4 manipulated. This means to check if the number of rows with class == 1 is equal to the number of rows with column \"id\" that starts with SD, DL or GL"
   ]
  },
  {
   "cell_type": "code",
   "execution_count": 12,
   "metadata": {},
   "outputs": [
    {
     "name": "stdout",
     "output_type": "stream",
     "text": [
      "Number of rows with 'id' starting with 'SD', 'GL', or 'DL': 10000\n"
     ]
    }
   ],
   "source": [
    "import pandas as pd\n",
    "\n",
    "# Load the CSV file into a DataFrame\n",
    "df = pd.read_csv(\"csv/test/test.csv\")\n",
    "\n",
    "# Filter rows where the \"id\" column starts with \"SD\", \"GL\", or \"DL\"\n",
    "filtered_df = df[df['id'].str.startswith(('SD', 'GL', 'DL'))]\n",
    "\n",
    "# Count the number of rows in the filtered DataFrame\n",
    "num_rows_with_prefix = len(filtered_df)\n",
    "\n",
    "print(\"Number of rows with 'id' starting with 'SD', 'GL', or 'DL':\", num_rows_with_prefix)\n"
   ]
  },
  {
   "cell_type": "code",
   "execution_count": 13,
   "metadata": {},
   "outputs": [
    {
     "name": "stdout",
     "output_type": "stream",
     "text": [
      "Number of rows with 'class' equal to 1: 10000\n"
     ]
    }
   ],
   "source": [
    "import pandas as pd\n",
    "\n",
    "# Load the CSV file into a DataFrame\n",
    "df = pd.read_csv(\"csv/test/test.csv\")\n",
    "\n",
    "# Filter rows where the \"class\" column equals 1\n",
    "filtered_df = df[df['class'] == 1]\n",
    "\n",
    "# Count the number of rows in the filtered DataFrame\n",
    "num_rows_with_class_1 = len(filtered_df)\n",
    "\n",
    "print(\"Number of rows with 'class' equal to 1:\", num_rows_with_class_1)"
   ]
  },
  {
   "cell_type": "markdown",
   "metadata": {},
   "source": [
    "now filter from test_with_duplicates only the column id, fake_id and 6_way_label"
   ]
  },
  {
   "cell_type": "code",
   "execution_count": 18,
   "metadata": {},
   "outputs": [],
   "source": [
    "import pandas as pd\n",
    "\n",
    "df = pd.read_csv(\"C:/Users/nello/Documents/vscode_projects/Thesis/3_image_generation/generated_images/csv/test_with_duplicates.csv\")\n",
    "\n",
    "desired_columns = ['id', 'fake_id', '6_way_label']\n",
    "filtered_df = df[desired_columns]\n",
    "\n",
    "filtered_df.to_csv(\"csv/test/temp1.csv\", index=False)"
   ]
  },
  {
   "cell_type": "markdown",
   "metadata": {},
   "source": [
    "now maintain only 2 columns id and 6_way_label, where id contains id or fake_id"
   ]
  },
  {
   "cell_type": "code",
   "execution_count": 19,
   "metadata": {},
   "outputs": [],
   "source": [
    "import pandas as pd\n",
    "\n",
    "df = pd.read_csv(\"csv/test/temp1.csv\")\n",
    "\n",
    "# Conditionally select values for the \"id\" column based on the values in the \"fake_id\" column\n",
    "df['id'] = df['fake_id'].fillna(df['id'])\n",
    "\n",
    "# Select only the desired columns\n",
    "filtered_df = df[['id', '6_way_label']]\n",
    "\n",
    "filtered_df.to_csv(\"csv/test/temp2.csv\", index=False)"
   ]
  },
  {
   "cell_type": "markdown",
   "metadata": {},
   "source": [
    "join the temp2 csv with test.csv to collect the column 6_way_label"
   ]
  },
  {
   "cell_type": "code",
   "execution_count": 20,
   "metadata": {},
   "outputs": [],
   "source": [
    "import pandas as pd\n",
    "\n",
    "df_a = pd.read_csv(\"csv/test/test.csv\")\n",
    "df_b = pd.read_csv(\"csv/test/temp2.csv\")\n",
    "\n",
    "# Perform a merge operation on \"id\" column\n",
    "merged_df = pd.merge(df_a, df_b, on=\"id\", how=\"left\")\n",
    "\n",
    "merged_df.to_csv(\"csv/test/test.csv\", index=False)"
   ]
  }
 ],
 "metadata": {
  "kernelspec": {
   "display_name": "Python 3",
   "language": "python",
   "name": "python3"
  },
  "language_info": {
   "codemirror_mode": {
    "name": "ipython",
    "version": 3
   },
   "file_extension": ".py",
   "mimetype": "text/x-python",
   "name": "python",
   "nbconvert_exporter": "python",
   "pygments_lexer": "ipython3",
   "version": "3.11.7"
  }
 },
 "nbformat": 4,
 "nbformat_minor": 2
}
